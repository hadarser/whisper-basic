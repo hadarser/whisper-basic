{
 "cells": [
  {
   "cell_type": "markdown",
   "metadata": {},
   "source": [
    "## Import local whisper"
   ]
  },
  {
   "cell_type": "code",
   "execution_count": 1,
   "metadata": {},
   "outputs": [],
   "source": [
    "import whisper"
   ]
  },
  {
   "cell_type": "code",
   "execution_count": 7,
   "metadata": {},
   "outputs": [],
   "source": [
    "# Ignore warnings\n",
    "import warnings\n",
    "warnings.filterwarnings('ignore')"
   ]
  },
  {
   "cell_type": "markdown",
   "metadata": {},
   "source": [
    "## Download sample data for transcription"
   ]
  },
  {
   "cell_type": "code",
   "execution_count": 2,
   "metadata": {},
   "outputs": [],
   "source": [
    "from pathlib import Path\n",
    "import requests"
   ]
  },
  {
   "cell_type": "code",
   "execution_count": 3,
   "metadata": {},
   "outputs": [],
   "source": [
    "audio_file_path = Path(\"data/EarningsCall.wav\")\n",
    "\n",
    "if not audio_file_path.exists():\n",
    "    # Download the audio file from link\n",
    "    download_link = \"https://cdn.openai.com/API/examples/data/EarningsCall.wav\"\n",
    "    Path(\"data\").mkdir(exist_ok=True)\n",
    "    print(\"Downloading audio file from link... \", end=\"\")\n",
    "    with open(\"data/EarningsCall.wav\", \"wb\") as f:\n",
    "        response = requests.get(download_link)\n",
    "        f.write(response.content)\n",
    "    print(\"Done.\")"
   ]
  },
  {
   "cell_type": "markdown",
   "metadata": {},
   "source": [
    "## Transcribe the audio"
   ]
  },
  {
   "cell_type": "code",
   "execution_count": 8,
   "metadata": {},
   "outputs": [],
   "source": [
    "# Will download the model if not already downloaded\n",
    "model = whisper.load_model(\"base\")"
   ]
  },
  {
   "cell_type": "code",
   "execution_count": 9,
   "metadata": {},
   "outputs": [
    {
     "name": "stdout",
     "output_type": "stream",
     "text": [
      " Good afternoon, everyone. Welcome to FinTech Plus SYNC's second quarter 2023 earnings call. I'm John Doe, CEO of FinTech Plus. We've had a stellar Q2 with a revenue of 125 million. A 25% increase year over year. Our gross profit margin stands at a solid 58% due in part to cost efficiencies gaining our scalable business model. Our EBITDA is surged to $37.5 million, translating to a remarkable 30% EBITDA margin. Our net income for the quarter rose to $16 million, which is a note worthy increase from $10 million in Q2 2022. Our total addressable market has grown substantially thanks to the expansion of our high yield savings product line in the new Robo Advisor platform. We've been diversifying our asset-backed securities portfolio investing heavily in collateralized debt obligations and residential mortgage-backed securities. We've also invested 25 million in AAA rated corporate bonds enhancing our risk-adjusted returns. As for our balance sheet, total assets reached 1.5 billion with total liabilities at 900 million, leaving us with a solid equity base of 600 million. Our debt-to-equity ratio stands at 1.5, a healthy figure considering our expansionary phase. We continue to see substantial organic user growth with customer acquisition cost dropping by 15% and lifetime value growing by 25%. Our LTV-CAC ratio is at an impressive 3.5% X. In terms of risk management, we have a value at risk model in place with a 99% confidence level indicating that our maximum loss will not exceed 5 million in the next trading day. We've adopted a conservative approach to managing our leverage and have a healthy tier-run capital ratio at 12.5%. Our forecast for the coming quarter is positive. We expect revenue to be around 135 million, an 8% quarter over quarter growth, driven primarily by our cutting-its blockchain chain solutions and AI-driven predictive analytics. We're also excited about the upcoming IPO of our FinTech subsidiary Pay Plus, which we expect to raise 200 million, significantly bolstering our liquidity and paving the way for aggressive growth strategies. We thank our shareholders for their continued faith in us and we look forward to an even more successful Q3. Thank you so much.\n"
     ]
    }
   ],
   "source": [
    "result = model.transcribe(str(audio_file_path)) \n",
    "print(result[\"text\"])"
   ]
  }
 ],
 "metadata": {
  "kernelspec": {
   "display_name": ".venv",
   "language": "python",
   "name": "python3"
  },
  "language_info": {
   "codemirror_mode": {
    "name": "ipython",
    "version": 3
   },
   "file_extension": ".py",
   "mimetype": "text/x-python",
   "name": "python",
   "nbconvert_exporter": "python",
   "pygments_lexer": "ipython3",
   "version": "3.12.8"
  }
 },
 "nbformat": 4,
 "nbformat_minor": 2
}
