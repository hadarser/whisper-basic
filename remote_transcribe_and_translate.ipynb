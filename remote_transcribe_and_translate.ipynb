{
 "cells": [
  {
   "cell_type": "code",
   "execution_count": 1,
   "metadata": {},
   "outputs": [],
   "source": [
    "from client import transcriber, translator\n",
    "from pathlib import Path\n"
   ]
  },
  {
   "cell_type": "markdown",
   "metadata": {},
   "source": [
    "## Check that the recording exists\n",
    "I recorded it myself..."
   ]
  },
  {
   "cell_type": "code",
   "execution_count": 2,
   "metadata": {},
   "outputs": [],
   "source": [
    "hobbit_audio_file = Path(\"data/the hobbit.m4a\")\n",
    "assert hobbit_audio_file.exists()\n"
   ]
  },
  {
   "cell_type": "markdown",
   "metadata": {},
   "source": [
    "## Transcribe the recording to multiple languages"
   ]
  },
  {
   "cell_type": "code",
   "execution_count": 3,
   "metadata": {},
   "outputs": [
    {
     "data": {
      "text/plain": [
       "Transcription(text=\"ההוביט, או לשם ובחזרה, הוא ספר פנטזיה מאת ג'ון רונאלד ראואל טולקין. הספר עוסק במסעו של ההוביט, בילבו בגינס, יחד עם חבורת גמדים, במטרה לשחרר את ממלכתם העבודה מאכיזתו של דרקון בשם סמוג. הספר מיועד בעיקר לילדים, למרות שהוא מכיל קטעים מפחידים שעלולים לתרוף את שנתם, אך נקרא על ידי בני כל הגילאים. בדומה לספר ההרפתקאות, אליס בארץ הפלאות, ספר זה נולד מסיפורים בהמשכים שנהג הסופר טולקין לספר לילדיו. טולקין היה פרופסור לבלשנות, לשון וספרות, וקיים את הטענה שהוא כתב את הספר כדי להדגים לסטודנטים כיצד ניתן ליצור הפעירה בעזרת מילים.\")"
      ]
     },
     "execution_count": 3,
     "metadata": {},
     "output_type": "execute_result"
    }
   ],
   "source": [
    "# Trial 1 - transcribe the hobbit audio file\n",
    "transcription = transcriber.audio.transcriptions.create(\n",
    "    model=\"whisper-1\",\n",
    "    file=open(hobbit_audio_file, \"rb\"),\n",
    ")\n",
    "transcription"
   ]
  },
  {
   "cell_type": "code",
   "execution_count": 4,
   "metadata": {},
   "outputs": [
    {
     "data": {
      "text/plain": [
       "Translation(text='The Hobbit is a fantasy book by John Ronald Reuel Tolkien. The book deals with the story of the Hobbit, Bilbo Baggins, together with a group of dwarves, in an attempt to free their kingdom from the grip of a dragon named Smaug. The book is mainly intended for children, even though it contains scary parts that may change over the years, but it is read by children of all ages. Similar to the book The Adventures of Alice in Wonderland, this book is born from stories that Tolkien used to tell his children. Tolkien was a linguist and a professor of literature, and there is a claim that he wrote the book to demonstrate to students how it can be created using words.')"
      ]
     },
     "execution_count": 4,
     "metadata": {},
     "output_type": "execute_result"
    }
   ],
   "source": [
    "# Trial 2 - translate the hobbit audio file to English\n",
    "translation = translator.audio.translations.create(\n",
    "    model=\"whisper-1\",\n",
    "    file=open(hobbit_audio_file, \"rb\"),\n",
    ")\n",
    "translation"
   ]
  },
  {
   "cell_type": "code",
   "execution_count": 5,
   "metadata": {},
   "outputs": [
    {
     "data": {
      "text/plain": [
       "Transcription(text='The Hobbit is a fantasy book by John Ronald Reuel Tolkien. The book deals with the story of the Hobbit, Bilbo Baggins, together with a group of dwarves, in an attempt to free their kingdom from the grip of a dragon named Smaug. The book is mainly intended for children, even though it contains frightening details that may spoil their years, but it is read by children of all ages. Like the book of adventures Alice in Wonderland, this book is born from stories that Tolkien used to tell his children. Tolkien was a linguist and a professor of literature, and there is a claim that he wrote the book to demonstrate to students how we can create a world with words.')"
      ]
     },
     "execution_count": 5,
     "metadata": {},
     "output_type": "execute_result"
    }
   ],
   "source": [
    "# Trial 3 - use the transcription endpoint, but specific \"en\" as the language\n",
    "trial_3 = transcriber.audio.transcriptions.create(\n",
    "    model=\"whisper-1\",\n",
    "    file=open(hobbit_audio_file, \"rb\"),\n",
    "    language=\"en\",\n",
    ")\n",
    "trial_3"
   ]
  },
  {
   "cell_type": "code",
   "execution_count": 7,
   "metadata": {},
   "outputs": [
    {
     "data": {
      "text/plain": [
       "Transcription(text='El Hobbit, o de ahí y de vuelta, es un libro de fantasía de John Ronald Reuel Tolkien. El libro se centra en la tradición del Hobbit, Bilbo Baggins, junto con una asociación de gemelos, con el objetivo de liberar el reino del trabajo de su hermano, un dracón llamado Smaug. El libro se dedica principalmente a los niños, a pesar de que es el único tema asombroso que puede romper su edad, pero fue escrito por los hijos de todos sus edades. Al igual que el libro de las aventuras de Alice en el Reino de las Tormentas, este libro nació de historias que el escritor Tolkien dirigía a sus hijos. Tolkien era un profesor de lingüística, lenguaje y literatura, y sostuvo el argumento de que escribió el libro para mostrar a los estudiantes cómo se puede crear una atmósfera con las palabras.')"
      ]
     },
     "execution_count": 7,
     "metadata": {},
     "output_type": "execute_result"
    }
   ],
   "source": [
    "# Trial 4 - use the transcription endpoint, but specific \"es\" as the language\n",
    "trial_4 = transcriber.audio.transcriptions.create(\n",
    "    model=\"whisper-1\",\n",
    "    file=open(hobbit_audio_file, \"rb\"),\n",
    "    language=\"es\",\n",
    ")\n",
    "trial_4"
   ]
  }
 ],
 "metadata": {
  "kernelspec": {
   "display_name": ".venv",
   "language": "python",
   "name": "python3"
  },
  "language_info": {
   "codemirror_mode": {
    "name": "ipython",
    "version": 3
   },
   "file_extension": ".py",
   "mimetype": "text/x-python",
   "name": "python",
   "nbconvert_exporter": "python",
   "pygments_lexer": "ipython3",
   "version": "3.12.8"
  }
 },
 "nbformat": 4,
 "nbformat_minor": 2
}
