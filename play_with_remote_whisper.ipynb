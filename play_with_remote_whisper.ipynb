{
 "cells": [
  {
   "cell_type": "markdown",
   "metadata": {},
   "source": [
    "## Import OpenAI client"
   ]
  },
  {
   "cell_type": "code",
   "execution_count": 1,
   "metadata": {},
   "outputs": [],
   "source": [
    "from client import client"
   ]
  },
  {
   "cell_type": "markdown",
   "metadata": {},
   "source": [
    "## Download sample data for transcription"
   ]
  },
  {
   "cell_type": "code",
   "execution_count": 2,
   "metadata": {},
   "outputs": [],
   "source": [
    "from pathlib import Path\n",
    "import requests\n",
    "\n",
    "audio_file_path = Path(\"data/EarningsCall.wav\")\n",
    "\n",
    "if not audio_file_path.exists():\n",
    "    # Download the audio file from link\n",
    "    download_link = \"https://cdn.openai.com/API/examples/data/EarningsCall.wav\"\n",
    "    Path(\"data\").mkdir(exist_ok=True)\n",
    "    print(\"Downloading audio file from link... \", end=\"\")\n",
    "    with open(\"data/EarningsCall.wav\", \"wb\") as f:\n",
    "        response = requests.get(download_link)\n",
    "        f.write(response.content)\n",
    "    print(\"Done.\")"
   ]
  },
  {
   "cell_type": "markdown",
   "metadata": {},
   "source": [
    "## Transcribe the audio file"
   ]
  },
  {
   "cell_type": "code",
   "execution_count": 6,
   "metadata": {},
   "outputs": [
    {
     "name": "stdout",
     "output_type": "stream",
     "text": [
      "Good afternoon, everyone, and welcome to FinTech Plus Sync's second quarter 2023 earnings call. I'm John Doe, CEO of FinTech Plus. We've had a stellar Q2 with a revenue of $125 million, a 25% increase year over year. Our gross profit margin stands at a solid 58%, due in part to cost efficiencies gained from our scalable business model. Our EBITDA has surged to $37.5 million, translating to a remarkable 30% EBITDA margin. Our net income for the quarter rose to $16 million, which is a noteworthy increase from $10 million in Q2 2022. Our total addressable market has grown substantially, thanks to the expansion of our high-yield savings product line and the new RoboAdvisor platform. We've been diversifying our asset-backed securities portfolio, investing heavily in collateralized debt obligations and residential mortgage-backed securities. We've also invested $25 million in AAA-rated corporate bonds, enhancing our risk-adjusted returns. As for our balance sheet, total assets reached $1.5 billion, with total liabilities at $900 million, leaving us with a solid equity base of $600 million. Our debt-to-equity ratio stands at 1.5, a healthy figure considering our expansionary phase. We continue to see substantial organic user growth, with customer acquisition cost dropping by 15% and lifetime value growing by 25%. Our LTVCAC ratio is at an impressive 3.5%. In terms of risk management, we have a value-at-risk model in place, with a 99% confidence level indicating that our maximum loss will not exceed $5 million in the next trading day. We've adopted a conservative approach to managing our leverage and have a healthy tier-one capital ratio of 12.5%. Our forecast for the coming quarter is positive. We expect revenue to be around $135 million and 8% quarter-over-quarter growth, driven primarily by our cutting-edge blockchain solutions and AI-driven predictive analytics. We're also excited about the upcoming IPO of our fintech subsidiary, Pay Plus, which we expect to raise $200 million, significantly bolstering our liquidity and paving the way for aggressive growth strategies. We thank our shareholders for their continued faith in us and we look forward to an even more successful Q3. Thank you so much.\n"
     ]
    }
   ],
   "source": [
    "audio_file = open(audio_file_path, \"rb\")\n",
    "transcription = client.audio.transcriptions.create(\n",
    "    model=\"whisper-1\",\n",
    "    file=audio_file,\n",
    ")\n",
    "\n",
    "print(transcription.text)"
   ]
  },
  {
   "cell_type": "markdown",
   "metadata": {},
   "source": [
    "## Transcribe and translate the hobbit file"
   ]
  },
  {
   "cell_type": "code",
   "execution_count": 3,
   "metadata": {},
   "outputs": [],
   "source": [
    "hobbit_audio_file = Path(\"data/the hobbit.m4a\")\n",
    "assert hobbit_audio_file.exists()"
   ]
  },
  {
   "cell_type": "code",
   "execution_count": 4,
   "metadata": {},
   "outputs": [],
   "source": [
    "# Trial 1 - no information about the language, transcription only\n",
    "hobbit_trial_1 = client.audio.transcriptions.create(\n",
    "    model=\"whisper-1\",\n",
    "    file=open(hobbit_audio_file, \"rb\"),\n",
    ")"
   ]
  },
  {
   "cell_type": "code",
   "execution_count": 5,
   "metadata": {},
   "outputs": [
    {
     "data": {
      "text/plain": [
       "Transcription(text=\"ההוביט, או לשם ובחזרה, הוא ספר פנטזיה מאת ג'ון רונאלד ראואל טולקין. הספר עוסק במסעו של ההוביט, בילבו בגינס, יחד עם חבורת גמדים, במטרה לשחרר את ממלכתם העבודה מאכיזתו של דרקון בשם סמוג. הספר מיועד בעיקר לילדים, למרות שהוא מכיל קטעים מפחידים שעלולים לתרוף את שנתם, אך נקרא על ידי בני כל הגילאים. בדומה לספר ההרפתקאות, אליס בארץ הפלאות, ספר זה נולד מסיפורים בהמשכים שנהג הסופר טולקין לספר לילדיו. טולקין היה פרופסור לבלשנות, לשון וספרות, וקיים את הטענה שהוא כתב את הספר כדי להדגים לסטודנטים כיצד ניתן ליצור הפעירה בעזרת מילים.\")"
      ]
     },
     "execution_count": 5,
     "metadata": {},
     "output_type": "execute_result"
    }
   ],
   "source": [
    "# The result is a translation to English of the original speech\n",
    "hobbit_trial_1"
   ]
  },
  {
   "cell_type": "code",
   "execution_count": 6,
   "metadata": {},
   "outputs": [],
   "source": [
    "# Trial 2 - use translations instead of transcriptions\n",
    "hobbit_trial_2 = client.audio.translations.create(\n",
    "    model=\"whisper-1\",\n",
    "    file=open(hobbit_audio_file, \"rb\"),\n",
    ")"
   ]
  },
  {
   "cell_type": "code",
   "execution_count": 7,
   "metadata": {},
   "outputs": [
    {
     "data": {
      "text/plain": [
       "Translation(text='The Hobbit is a fantasy book by John Ronald Reuel Tolkien. The book deals with the story of the Hobbit, Bilbo Baggins, together with a group of dwarves, in an attempt to free their kingdom from the grip of a dragon named Smaug. The book is mainly intended for children, even though it contains frightening details that may change over the years, but it is read by children of all ages. Similar to the book The Adventures of Alice in Wonderland, this book is born from stories that Tolkien used to tell his children. Tolkien was a linguist and a professor of literature, and there is a claim that he wrote the book to demonstrate to students how it can be created using words.')"
      ]
     },
     "execution_count": 7,
     "metadata": {},
     "output_type": "execute_result"
    }
   ],
   "source": [
    "# The result is\n",
    "hobbit_trial_2"
   ]
  },
  {
   "cell_type": "code",
   "execution_count": null,
   "metadata": {},
   "outputs": [],
   "source": []
  }
 ],
 "metadata": {
  "kernelspec": {
   "display_name": ".venv",
   "language": "python",
   "name": "python3"
  },
  "language_info": {
   "codemirror_mode": {
    "name": "ipython",
    "version": 3
   },
   "file_extension": ".py",
   "mimetype": "text/x-python",
   "name": "python",
   "nbconvert_exporter": "python",
   "pygments_lexer": "ipython3",
   "version": "3.12.2"
  }
 },
 "nbformat": 4,
 "nbformat_minor": 2
}
